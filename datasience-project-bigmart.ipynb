{
 "cells": [
  {
   "cell_type": "code",
   "execution_count": 166,
   "metadata": {
    "_cell_guid": "b1076dfc-b9ad-4769-8c92-a6c4dae69d19",
    "_uuid": "8f2839f25d086af736a60e9eeb907d3b93b6e0e5",
    "execution": {
     "iopub.execute_input": "2022-05-12T18:31:51.732173Z",
     "iopub.status.busy": "2022-05-12T18:31:51.731186Z",
     "iopub.status.idle": "2022-05-12T18:31:51.737681Z",
     "shell.execute_reply": "2022-05-12T18:31:51.736611Z",
     "shell.execute_reply.started": "2022-05-12T18:31:51.732105Z"
    }
   },
   "outputs": [],
   "source": [
    "import numpy as np # linear algebra\n",
    "import pandas as pd # data processing, CSV file I/O (e.g. pd.read_csv)\n",
    "import matplotlib.pyplot as plt\n",
    "import seaborn as sns\n",
    "\n",
    "\n",
    "print(\"Setup Complete\")"
   ]
  },
  {
   "cell_type": "code",
   "execution_count": 167,
   "metadata": {
    "execution": {
     "iopub.execute_input": "2022-05-12T18:31:51.832400Z",
     "iopub.status.busy": "2022-05-12T18:31:51.832081Z",
     "iopub.status.idle": "2022-05-12T18:31:51.883049Z",
     "shell.execute_reply": "2022-05-12T18:31:51.882357Z",
     "shell.execute_reply.started": "2022-05-12T18:31:51.832369Z"
    }
   },
   "outputs": [],
   "source": [
    "path1 = \"../input/bigmart-dataset/Test.csv\"\n",
    "path2 = \"../input/bigmart-dataset/Train.csv\"\n",
    "test = pd.read_csv(path1)\n",
    "train = pd.read_csv(path2)\n",
    "\n",
    "# test.head()\n",
    "temp = test.copy()\n",
    "temp2 = train.copy()"
   ]
  },
  {
   "cell_type": "markdown",
   "metadata": {},
   "source": [
    "First we will clean our Nan or none values "
   ]
  },
  {
   "cell_type": "code",
   "execution_count": 168,
   "metadata": {
    "execution": {
     "iopub.execute_input": "2022-05-12T18:31:51.949856Z",
     "iopub.status.busy": "2022-05-12T18:31:51.949010Z",
     "iopub.status.idle": "2022-05-12T18:31:52.003227Z",
     "shell.execute_reply": "2022-05-12T18:31:52.002283Z",
     "shell.execute_reply.started": "2022-05-12T18:31:51.949812Z"
    }
   },
   "outputs": [],
   "source": [
    "missing_data = temp.isnull().sum()\n",
    "missing_data2 = temp2.isnull().sum()\n",
    "# print(missing_data2[0:])\n",
    "\n",
    "temp.Item_Weight = temp.Item_Weight.fillna(0)\n",
    "temp.Outlet_Size = temp.Outlet_Size.fillna(\"Unknown\")\n",
    "\n",
    "temp2.Item_Weight = temp2.Item_Weight.fillna(0)\n",
    "temp2['Item_Weight'].fillna(temp2['Item_Weight'].mean(), inplace = True)\n",
    "# temp2.Outlet_Size = temp2.Outlet_Size.fillna(\"Unknown\")\n",
    "temp2['Outlet_Size'].fillna(temp2['Outlet_Size'].mode()[0], inplace = True)\n",
    "\n",
    "temp2['Item_Fat_Content'] = temp2['Item_Fat_Content'].replace('LF','low fat')\n",
    "temp2['Item_Fat_Content'] = temp2['Item_Fat_Content'].replace('reg','regular')\n",
    "temp2['Item_Fat_Content'] = temp2['Item_Fat_Content'].str.lower()\n",
    "temp2['Item_Fat_Content'] = temp2['Item_Fat_Content'].str.strip()\n",
    "test['Item_Weight'].fillna(value=test['Item_Weight'].mean(),inplace=True)\n",
    "test['Outlet_Size'].fillna('Unknown', inplace=True)\n",
    "print(train)"
   ]
  },
  {
   "cell_type": "markdown",
   "metadata": {},
   "source": [
    "now concat both data to get one\n"
   ]
  },
  {
   "cell_type": "code",
   "execution_count": 169,
   "metadata": {
    "execution": {
     "iopub.execute_input": "2022-05-12T18:31:52.048081Z",
     "iopub.status.busy": "2022-05-12T18:31:52.047004Z",
     "iopub.status.idle": "2022-05-12T18:31:52.071369Z",
     "shell.execute_reply": "2022-05-12T18:31:52.070262Z",
     "shell.execute_reply.started": "2022-05-12T18:31:52.048038Z"
    }
   },
   "outputs": [],
   "source": [
    "mart_data = pd.concat([temp,temp2])\n",
    "# print(mart_data)\n",
    "mart_data.Item_Outlet_Sales = mart_data.Item_Outlet_Sales.fillna(0)\n",
    "print(mart_data)\n",
    "# print(mart_data.describe())"
   ]
  },
  {
   "cell_type": "markdown",
   "metadata": {},
   "source": [
    "Data visualization"
   ]
  },
  {
   "cell_type": "code",
   "execution_count": 170,
   "metadata": {
    "execution": {
     "iopub.execute_input": "2022-05-12T18:31:52.147614Z",
     "iopub.status.busy": "2022-05-12T18:31:52.146623Z",
     "iopub.status.idle": "2022-05-12T18:31:52.398186Z",
     "shell.execute_reply": "2022-05-12T18:31:52.396947Z",
     "shell.execute_reply.started": "2022-05-12T18:31:52.147561Z"
    }
   },
   "outputs": [],
   "source": [
    "# print(temp2.Item_Outlet_Sales)\n",
    "plt.hist(temp2.Item_Outlet_Sales,bins=20)\n",
    "plt.xlabel(\"Item_Outlet_Sales\")\n",
    "plt.ylabel(\"Count\")"
   ]
  },
  {
   "cell_type": "code",
   "execution_count": 171,
   "metadata": {
    "execution": {
     "iopub.execute_input": "2022-05-12T18:31:52.400301Z",
     "iopub.status.busy": "2022-05-12T18:31:52.399937Z",
     "iopub.status.idle": "2022-05-12T18:31:52.409213Z",
     "shell.execute_reply": "2022-05-12T18:31:52.408204Z",
     "shell.execute_reply.started": "2022-05-12T18:31:52.400259Z"
    }
   },
   "outputs": [],
   "source": [
    "temp2.dtypes"
   ]
  },
  {
   "cell_type": "code",
   "execution_count": 172,
   "metadata": {
    "execution": {
     "iopub.execute_input": "2022-05-12T18:31:52.411384Z",
     "iopub.status.busy": "2022-05-12T18:31:52.411011Z",
     "iopub.status.idle": "2022-05-12T18:31:52.426123Z",
     "shell.execute_reply": "2022-05-12T18:31:52.425170Z",
     "shell.execute_reply.started": "2022-05-12T18:31:52.411344Z"
    }
   },
   "outputs": [],
   "source": [
    "temp2['Item_Identifier'].value_counts()"
   ]
  },
  {
   "cell_type": "code",
   "execution_count": 173,
   "metadata": {
    "execution": {
     "iopub.execute_input": "2022-05-12T18:31:52.439236Z",
     "iopub.status.busy": "2022-05-12T18:31:52.438948Z",
     "iopub.status.idle": "2022-05-12T18:31:52.658910Z",
     "shell.execute_reply": "2022-05-12T18:31:52.657215Z",
     "shell.execute_reply.started": "2022-05-12T18:31:52.439198Z"
    }
   },
   "outputs": [],
   "source": [
    "\n",
    "graph = temp2['Item_Identifier'].value_counts(normalize=True)\n",
    "plt.hist(temp2['Item_Identifier'].value_counts())\n",
    "plt.xlabel('Item Identifer')\n",
    "plt.ylabel('Number of Items')\n",
    "plt.title(\"Different types of item available in the store\")\n",
    "plt.legend()\n",
    "plt.show()"
   ]
  },
  {
   "cell_type": "code",
   "execution_count": 174,
   "metadata": {
    "execution": {
     "iopub.execute_input": "2022-05-12T18:31:52.663037Z",
     "iopub.status.busy": "2022-05-12T18:31:52.662822Z",
     "iopub.status.idle": "2022-05-12T18:31:52.670196Z",
     "shell.execute_reply": "2022-05-12T18:31:52.669217Z",
     "shell.execute_reply.started": "2022-05-12T18:31:52.663011Z"
    }
   },
   "outputs": [],
   "source": [
    "temp2['Item_Fat_Content'].unique()"
   ]
  },
  {
   "cell_type": "code",
   "execution_count": 175,
   "metadata": {
    "execution": {
     "iopub.execute_input": "2022-05-12T18:31:52.672043Z",
     "iopub.status.busy": "2022-05-12T18:31:52.671587Z",
     "iopub.status.idle": "2022-05-12T18:31:52.850323Z",
     "shell.execute_reply": "2022-05-12T18:31:52.849324Z",
     "shell.execute_reply.started": "2022-05-12T18:31:52.672000Z"
    }
   },
   "outputs": [],
   "source": [
    "temp2['Item_Fat_Content'].value_counts(normalize=True)\n",
    "temp2['Item_Fat_Content'].value_counts().plot.bar(color=['pink','lightblue'])\n",
    "plt.title(\"Varieties of Fat in different stores\")\n",
    "plt.xlabel(\"Type\")\n",
    "plt.ylabel(\"Number of Items\")\n",
    "\n",
    "plt.show()"
   ]
  },
  {
   "cell_type": "code",
   "execution_count": 176,
   "metadata": {
    "execution": {
     "iopub.execute_input": "2022-05-12T18:31:52.852568Z",
     "iopub.status.busy": "2022-05-12T18:31:52.852243Z",
     "iopub.status.idle": "2022-05-12T18:31:52.860846Z",
     "shell.execute_reply": "2022-05-12T18:31:52.860298Z",
     "shell.execute_reply.started": "2022-05-12T18:31:52.852534Z"
    }
   },
   "outputs": [],
   "source": [
    "temp2['Item_Type'].value_counts()"
   ]
  },
  {
   "cell_type": "code",
   "execution_count": 177,
   "metadata": {
    "execution": {
     "iopub.execute_input": "2022-05-12T18:31:52.862509Z",
     "iopub.status.busy": "2022-05-12T18:31:52.861842Z",
     "iopub.status.idle": "2022-05-12T18:31:53.293802Z",
     "shell.execute_reply": "2022-05-12T18:31:53.292917Z",
     "shell.execute_reply.started": "2022-05-12T18:31:52.862462Z"
    }
   },
   "outputs": [],
   "source": [
    "temp2['Item_Type'].value_counts(normalize=True)\n",
    "temp2['Item_Type'].value_counts().plot.bar(color=['pink', 'tomato','gold', 'lightgreen', 'blue', 'cyan'])\n",
    "plt.title(\"Varieties of Items in different stores\")\n",
    "plt.xlabel(\"Type\")\n",
    "plt.ylabel(\"Number of Items\")\n",
    "\n",
    "plt.show()"
   ]
  },
  {
   "cell_type": "code",
   "execution_count": 178,
   "metadata": {
    "execution": {
     "iopub.execute_input": "2022-05-12T18:31:53.297396Z",
     "iopub.status.busy": "2022-05-12T18:31:53.296505Z",
     "iopub.status.idle": "2022-05-12T18:31:53.305486Z",
     "shell.execute_reply": "2022-05-12T18:31:53.304672Z",
     "shell.execute_reply.started": "2022-05-12T18:31:53.297348Z"
    }
   },
   "outputs": [],
   "source": [
    "temp2['Outlet_Identifier'].value_counts()"
   ]
  },
  {
   "cell_type": "code",
   "execution_count": 179,
   "metadata": {
    "execution": {
     "iopub.execute_input": "2022-05-12T18:31:53.308586Z",
     "iopub.status.busy": "2022-05-12T18:31:53.307467Z",
     "iopub.status.idle": "2022-05-12T18:31:53.489187Z",
     "shell.execute_reply": "2022-05-12T18:31:53.488571Z",
     "shell.execute_reply.started": "2022-05-12T18:31:53.308534Z"
    }
   },
   "outputs": [],
   "source": [
    "temp2['Outlet_Identifier'].value_counts(normalize=True)\n",
    "temp2['Outlet_Identifier'].value_counts().plot.bar(color=['pink', 'tomato','gold','chocolate', 'lightgreen', 'blue', 'cyan'])\n",
    "plt.title(\"Types of different Outlet_Identifier in stores\")\n",
    "plt.ylim(0,1000)\n",
    "plt.xlabel(\"Types of Outlet_Identifier\")\n",
    "plt.ylabel(\"Number of Items\"),\n",
    "\n",
    "plt.show()\n",
    "# print(temp2)"
   ]
  },
  {
   "cell_type": "code",
   "execution_count": 180,
   "metadata": {
    "execution": {
     "iopub.execute_input": "2022-05-12T18:31:53.490712Z",
     "iopub.status.busy": "2022-05-12T18:31:53.490172Z",
     "iopub.status.idle": "2022-05-12T18:31:53.499072Z",
     "shell.execute_reply": "2022-05-12T18:31:53.497885Z",
     "shell.execute_reply.started": "2022-05-12T18:31:53.490680Z"
    }
   },
   "outputs": [],
   "source": [
    "temp2[\"Outlet_Size\"].value_counts()\n"
   ]
  },
  {
   "cell_type": "code",
   "execution_count": 181,
   "metadata": {
    "execution": {
     "iopub.execute_input": "2022-05-12T18:31:53.500937Z",
     "iopub.status.busy": "2022-05-12T18:31:53.500717Z",
     "iopub.status.idle": "2022-05-12T18:31:53.511223Z",
     "shell.execute_reply": "2022-05-12T18:31:53.510075Z",
     "shell.execute_reply.started": "2022-05-12T18:31:53.500911Z"
    }
   },
   "outputs": [],
   "source": [
    "tt = temp2['Item_Identifier']\n",
    "print(tt)"
   ]
  },
  {
   "cell_type": "code",
   "execution_count": 182,
   "metadata": {
    "execution": {
     "iopub.execute_input": "2022-05-12T18:31:53.513869Z",
     "iopub.status.busy": "2022-05-12T18:31:53.513380Z",
     "iopub.status.idle": "2022-05-12T18:31:53.688336Z",
     "shell.execute_reply": "2022-05-12T18:31:53.687533Z",
     "shell.execute_reply.started": "2022-05-12T18:31:53.513832Z"
    }
   },
   "outputs": [],
   "source": [
    "temp2['Outlet_Size'].value_counts(normalize=True)\n",
    "order = ['High','Medium','Small']\n",
    "temp2['Outlet_Size'].value_counts().loc[order].plot.bar()\n",
    "plt.title(\"Different Outlet Size in stores\")\n",
    "plt.xlabel(\"Sizes\")\n",
    "plt.ylabel(\"Number of Outlets\"),\n",
    "\n",
    "plt.show()"
   ]
  },
  {
   "cell_type": "code",
   "execution_count": 183,
   "metadata": {
    "execution": {
     "iopub.execute_input": "2022-05-12T18:31:53.689985Z",
     "iopub.status.busy": "2022-05-12T18:31:53.689611Z",
     "iopub.status.idle": "2022-05-12T18:31:53.694879Z",
     "shell.execute_reply": "2022-05-12T18:31:53.693950Z",
     "shell.execute_reply.started": "2022-05-12T18:31:53.689948Z"
    }
   },
   "outputs": [],
   "source": [
    "# print(temp2)"
   ]
  },
  {
   "cell_type": "code",
   "execution_count": 184,
   "metadata": {
    "execution": {
     "iopub.execute_input": "2022-05-12T18:31:53.696907Z",
     "iopub.status.busy": "2022-05-12T18:31:53.696650Z",
     "iopub.status.idle": "2022-05-12T18:31:53.714661Z",
     "shell.execute_reply": "2022-05-12T18:31:53.713731Z",
     "shell.execute_reply.started": "2022-05-12T18:31:53.696872Z"
    }
   },
   "outputs": [],
   "source": [
    "temp2['Outlet_Location_Type'].value_counts()"
   ]
  },
  {
   "cell_type": "code",
   "execution_count": 185,
   "metadata": {
    "execution": {
     "iopub.execute_input": "2022-05-12T18:31:53.716498Z",
     "iopub.status.busy": "2022-05-12T18:31:53.716247Z",
     "iopub.status.idle": "2022-05-12T18:31:53.919469Z",
     "shell.execute_reply": "2022-05-12T18:31:53.917740Z",
     "shell.execute_reply.started": "2022-05-12T18:31:53.716466Z"
    }
   },
   "outputs": [],
   "source": [
    "temp2['Outlet_Location_Type'].value_counts(normalize=True)\n",
    "temp2['Outlet_Location_Type'].value_counts().plot.bar()\n",
    "plt.title(\"Different Outlet Locations in stores\")\n",
    "plt.xlabel(\"Types\")\n",
    "plt.ylabel(\"Number of Outlets Location\")\n",
    "\n",
    "plt.show()"
   ]
  },
  {
   "cell_type": "code",
   "execution_count": 186,
   "metadata": {
    "execution": {
     "iopub.execute_input": "2022-05-12T18:31:53.922097Z",
     "iopub.status.busy": "2022-05-12T18:31:53.921820Z",
     "iopub.status.idle": "2022-05-12T18:31:53.932114Z",
     "shell.execute_reply": "2022-05-12T18:31:53.931216Z",
     "shell.execute_reply.started": "2022-05-12T18:31:53.922064Z"
    }
   },
   "outputs": [],
   "source": [
    "temp2['Outlet_Type'].value_counts()"
   ]
  },
  {
   "cell_type": "code",
   "execution_count": 187,
   "metadata": {
    "execution": {
     "iopub.execute_input": "2022-05-12T18:31:53.934463Z",
     "iopub.status.busy": "2022-05-12T18:31:53.933454Z",
     "iopub.status.idle": "2022-05-12T18:31:54.528556Z",
     "shell.execute_reply": "2022-05-12T18:31:54.527485Z",
     "shell.execute_reply.started": "2022-05-12T18:31:53.934411Z"
    }
   },
   "outputs": [],
   "source": [
    "sale_per_outlet = pd.crosstab(temp2['Outlet_Type'],temp2['Item_Outlet_Sales'])"
   ]
  },
  {
   "cell_type": "code",
   "execution_count": 188,
   "metadata": {
    "execution": {
     "iopub.execute_input": "2022-05-12T18:31:54.530779Z",
     "iopub.status.busy": "2022-05-12T18:31:54.530560Z",
     "iopub.status.idle": "2022-05-12T18:31:54.719291Z",
     "shell.execute_reply": "2022-05-12T18:31:54.718345Z",
     "shell.execute_reply.started": "2022-05-12T18:31:54.530751Z"
    }
   },
   "outputs": [],
   "source": [
    "temp2['Outlet_Type'].value_counts(normalize=True)\n",
    "order = ['Grocery Store','Supermarket Type1','Supermarket Type2','Supermarket Type3']\n",
    "temp2['Outlet_Type'].value_counts().loc[order].plot.bar()\n",
    "plt.title(\"Different Outlet Types in stores\")\n",
    "plt.xlabel(\"Types\")\n",
    "plt.ylabel(\"Number of Outlets Types\")\n",
    "     \n",
    "plt.show()"
   ]
  },
  {
   "cell_type": "code",
   "execution_count": 189,
   "metadata": {
    "execution": {
     "iopub.execute_input": "2022-05-12T18:31:54.720953Z",
     "iopub.status.busy": "2022-05-12T18:31:54.720701Z",
     "iopub.status.idle": "2022-05-12T18:31:54.735825Z",
     "shell.execute_reply": "2022-05-12T18:31:54.734833Z",
     "shell.execute_reply.started": "2022-05-12T18:31:54.720923Z"
    }
   },
   "outputs": [],
   "source": [
    "# def fun(x):\n",
    "#     if x.Outlet_Type=='Supermarket Type1':\n",
    "#         type1 = type1 + x.Item_Outlet_Sales\n",
    "#     elif x.Outlet_Type=='Supermarket Type2':\n",
    "#         type2 = type2 + x.Item_Outlet_Sales\n",
    "#     elif x.Outlet_Type=='Supermarket Type3':\n",
    "#         type3 = type3 + x.Item_Outlet_Sales\n",
    "#     elif x.Outlet_Type=='Grocery Store':\n",
    "#         Store = Store + x.Item_Outlet_Sales\n",
    "\n",
    "\n",
    "left = temp2.loc[:,['Outlet_Type','Item_Outlet_Sales']]\n",
    "# res = left.apply(fun,axis = 'columns')\n",
    "# total = pd.concat([left,right])\n",
    "total = left.groupby('Outlet_Type').sum()\n",
    "total['Item_Outlet_Sales'].apply(lambda x: '%.17f' % x).values.tolist()\n",
    "\n",
    "print(total)"
   ]
  },
  {
   "cell_type": "code",
   "execution_count": 190,
   "metadata": {
    "execution": {
     "iopub.execute_input": "2022-05-12T18:31:54.737345Z",
     "iopub.status.busy": "2022-05-12T18:31:54.736987Z",
     "iopub.status.idle": "2022-05-12T18:31:54.742367Z",
     "shell.execute_reply": "2022-05-12T18:31:54.741294Z",
     "shell.execute_reply.started": "2022-05-12T18:31:54.737310Z"
    }
   },
   "outputs": [],
   "source": [
    "# sale_per_outlet = pd.crosstab(temp2['Item_Outlet_Sales'],temp2['Outlet_Type'])\n",
    "# # print(sale_per_outlet)\n",
    "# sale_per_outlet.div(sale_per_outlet.sum(1).astype(float), axis=0).plot(kind=\"bar\", stacked=True, figsize=(11, 11))"
   ]
  },
  {
   "cell_type": "code",
   "execution_count": 191,
   "metadata": {
    "execution": {
     "iopub.execute_input": "2022-05-12T18:31:54.743856Z",
     "iopub.status.busy": "2022-05-12T18:31:54.743630Z",
     "iopub.status.idle": "2022-05-12T18:31:54.962217Z",
     "shell.execute_reply": "2022-05-12T18:31:54.961201Z",
     "shell.execute_reply.started": "2022-05-12T18:31:54.743828Z"
    }
   },
   "outputs": [],
   "source": [
    "total.value_counts(normalize=True)\n",
    "# total.index.value_counts().plot.bar(total['Item_Outlet_Sales'])\n",
    "# sns.barplot(x=total.index, y=total['Item_Outlet_Sales'])\n",
    "order = ['Supermarket Type1','Supermarket Type2','Supermarket Type3','Grocery Store']\n",
    "sns.lineplot(data=total,sort=False)\n",
    "\n",
    "plt.title(\"Sale difference of Different Outlets\")\n",
    "plt.xlabel(\"Outlets\")\n",
    "plt.ylabel(\"Earning\")\n",
    "     \n",
    "plt.show()"
   ]
  },
  {
   "cell_type": "code",
   "execution_count": 192,
   "metadata": {
    "execution": {
     "iopub.execute_input": "2022-05-12T18:31:54.964801Z",
     "iopub.status.busy": "2022-05-12T18:31:54.964583Z",
     "iopub.status.idle": "2022-05-12T18:31:54.969078Z",
     "shell.execute_reply": "2022-05-12T18:31:54.968043Z",
     "shell.execute_reply.started": "2022-05-12T18:31:54.964774Z"
    }
   },
   "outputs": [],
   "source": [
    "# print(temp2)"
   ]
  },
  {
   "cell_type": "code",
   "execution_count": 193,
   "metadata": {
    "execution": {
     "iopub.execute_input": "2022-05-12T18:31:54.971038Z",
     "iopub.status.busy": "2022-05-12T18:31:54.970596Z",
     "iopub.status.idle": "2022-05-12T18:31:54.986889Z",
     "shell.execute_reply": "2022-05-12T18:31:54.986221Z",
     "shell.execute_reply.started": "2022-05-12T18:31:54.971010Z"
    }
   },
   "outputs": [],
   "source": [
    "temp2['Item_Identifier'].value_counts()"
   ]
  },
  {
   "cell_type": "code",
   "execution_count": 194,
   "metadata": {
    "execution": {
     "iopub.execute_input": "2022-05-12T18:31:54.988354Z",
     "iopub.status.busy": "2022-05-12T18:31:54.987848Z",
     "iopub.status.idle": "2022-05-12T18:31:54.999218Z",
     "shell.execute_reply": "2022-05-12T18:31:54.998575Z",
     "shell.execute_reply.started": "2022-05-12T18:31:54.988325Z"
    }
   },
   "outputs": [],
   "source": [
    "\n",
    "temp2['Item_Identifier'] = temp2['Item_Identifier'].apply(lambda x: x[0:2])\n",
    "temp2['Item_Identifier'] = temp2['Item_Identifier'].map({'FD':'Food','DR':'Drinks','NC':'Household'})\n",
    "# item_selling = temp2.groupby(['Item_Identifier','Item_Type','Item_MRP']).sum()\n",
    "# print(temp2['Item_Identifier'].value_counts)\n"
   ]
  },
  {
   "cell_type": "code",
   "execution_count": 195,
   "metadata": {
    "execution": {
     "iopub.execute_input": "2022-05-12T18:31:55.000842Z",
     "iopub.status.busy": "2022-05-12T18:31:55.000525Z",
     "iopub.status.idle": "2022-05-12T18:31:55.013396Z",
     "shell.execute_reply": "2022-05-12T18:31:55.012403Z",
     "shell.execute_reply.started": "2022-05-12T18:31:55.000815Z"
    }
   },
   "outputs": [],
   "source": [
    "temp2['Item_Identifier'].value_counts()"
   ]
  },
  {
   "cell_type": "code",
   "execution_count": 196,
   "metadata": {
    "execution": {
     "iopub.execute_input": "2022-05-12T18:31:55.015640Z",
     "iopub.status.busy": "2022-05-12T18:31:55.015086Z",
     "iopub.status.idle": "2022-05-12T18:31:55.023749Z",
     "shell.execute_reply": "2022-05-12T18:31:55.023032Z",
     "shell.execute_reply.started": "2022-05-12T18:31:55.015611Z"
    }
   },
   "outputs": [],
   "source": [
    "def identify(col):\n",
    "  id=col[0]\n",
    "  item_type=col[1]\n",
    "  \n",
    "  if id[:2] == 'NC':\n",
    "    return 'Non Consumables'\n",
    "  elif id[:2] == 'DR':\n",
    "    return 'Drinks'\n",
    "  else:\n",
    "    return 'Foods'"
   ]
  },
  {
   "cell_type": "code",
   "execution_count": 197,
   "metadata": {
    "execution": {
     "iopub.execute_input": "2022-05-12T18:31:55.025101Z",
     "iopub.status.busy": "2022-05-12T18:31:55.024790Z",
     "iopub.status.idle": "2022-05-12T18:31:55.241301Z",
     "shell.execute_reply": "2022-05-12T18:31:55.240517Z",
     "shell.execute_reply.started": "2022-05-12T18:31:55.025075Z"
    }
   },
   "outputs": [],
   "source": [
    "temp2['Item_Type']=temp2[['Item_Identifier','Item_Type']].apply(identify,axis=1)\n",
    "test['Item_Type']=test[['Item_Identifier','Item_Type']].apply(identify,axis=1)"
   ]
  },
  {
   "cell_type": "code",
   "execution_count": 198,
   "metadata": {
    "execution": {
     "iopub.execute_input": "2022-05-12T18:31:55.244661Z",
     "iopub.status.busy": "2022-05-12T18:31:55.244265Z",
     "iopub.status.idle": "2022-05-12T18:31:55.253626Z",
     "shell.execute_reply": "2022-05-12T18:31:55.252522Z",
     "shell.execute_reply.started": "2022-05-12T18:31:55.244619Z"
    }
   },
   "outputs": [],
   "source": [
    "item_selling  = temp2.groupby(['Item_Identifier']).Item_MRP.sum()\n",
    "# item_selling = pd.merge([item_selling,temp2.Item_Identifier])\n",
    "# item_selling = item_selling.set_index(['Item_Identifier'])\n",
    "# right = temp2.set_index(['Item_Identifier'])\n",
    "# item_selling.join(right)\n",
    "print(item_selling)"
   ]
  },
  {
   "cell_type": "code",
   "execution_count": 199,
   "metadata": {
    "execution": {
     "iopub.execute_input": "2022-05-12T18:31:55.255444Z",
     "iopub.status.busy": "2022-05-12T18:31:55.255221Z",
     "iopub.status.idle": "2022-05-12T18:31:55.452363Z",
     "shell.execute_reply": "2022-05-12T18:31:55.451512Z",
     "shell.execute_reply.started": "2022-05-12T18:31:55.255416Z"
    }
   },
   "outputs": [],
   "source": [
    "item_selling.value_counts(normalize=True)\n",
    "# item_selling.value_counts().plot.bar()\n",
    "\n",
    "item_selling.plot()\n",
    "plt.title(\"Category of Profuct selling Graph\")\n",
    "plt.xlabel(\"Types\")\n",
    "plt.ylabel(\"Selling\")\n",
    "     \n",
    "plt.show()"
   ]
  },
  {
   "cell_type": "code",
   "execution_count": 200,
   "metadata": {
    "execution": {
     "iopub.execute_input": "2022-05-12T18:31:55.455309Z",
     "iopub.status.busy": "2022-05-12T18:31:55.455065Z",
     "iopub.status.idle": "2022-05-12T18:31:55.463948Z",
     "shell.execute_reply": "2022-05-12T18:31:55.462997Z",
     "shell.execute_reply.started": "2022-05-12T18:31:55.455281Z"
    }
   },
   "outputs": [],
   "source": [
    "temp2['Item_Visibility'].value_counts()"
   ]
  },
  {
   "cell_type": "code",
   "execution_count": 201,
   "metadata": {
    "execution": {
     "iopub.execute_input": "2022-05-12T18:31:55.465297Z",
     "iopub.status.busy": "2022-05-12T18:31:55.465049Z",
     "iopub.status.idle": "2022-05-12T18:31:55.474270Z",
     "shell.execute_reply": "2022-05-12T18:31:55.473287Z",
     "shell.execute_reply.started": "2022-05-12T18:31:55.465269Z"
    }
   },
   "outputs": [],
   "source": [
    "#We see that item_visibility has a lot of null values we need to fill it with mean value\n",
    "temp2['Item_Visibility'].mask(train['Item_Visibility']==0, temp2['Item_Visibility'].mean(),inplace=True)\n",
    "test['Item_Visibility'].mask(test['Item_Visibility']==0, test['Item_Visibility'].mean(),inplace=True)"
   ]
  },
  {
   "cell_type": "code",
   "execution_count": 202,
   "metadata": {
    "execution": {
     "iopub.execute_input": "2022-05-12T18:31:55.475990Z",
     "iopub.status.busy": "2022-05-12T18:31:55.475397Z",
     "iopub.status.idle": "2022-05-12T18:31:55.487336Z",
     "shell.execute_reply": "2022-05-12T18:31:55.486497Z",
     "shell.execute_reply.started": "2022-05-12T18:31:55.475904Z"
    }
   },
   "outputs": [],
   "source": [
    "\n",
    "temp2['Item_Visibility'].value_counts()"
   ]
  },
  {
   "cell_type": "code",
   "execution_count": 203,
   "metadata": {
    "execution": {
     "iopub.execute_input": "2022-05-12T18:31:55.488798Z",
     "iopub.status.busy": "2022-05-12T18:31:55.488554Z",
     "iopub.status.idle": "2022-05-12T18:31:55.494340Z",
     "shell.execute_reply": "2022-05-12T18:31:55.493516Z",
     "shell.execute_reply.started": "2022-05-12T18:31:55.488770Z"
    }
   },
   "outputs": [],
   "source": [
    "def numyears(col):\n",
    "    return 2013-col"
   ]
  },
  {
   "cell_type": "code",
   "execution_count": 204,
   "metadata": {
    "execution": {
     "iopub.execute_input": "2022-05-12T18:31:55.496270Z",
     "iopub.status.busy": "2022-05-12T18:31:55.495979Z",
     "iopub.status.idle": "2022-05-12T18:31:55.529745Z",
     "shell.execute_reply": "2022-05-12T18:31:55.528632Z",
     "shell.execute_reply.started": "2022-05-12T18:31:55.496225Z"
    }
   },
   "outputs": [],
   "source": [
    "temp2"
   ]
  },
  {
   "cell_type": "code",
   "execution_count": 205,
   "metadata": {
    "execution": {
     "iopub.execute_input": "2022-05-12T18:31:55.531404Z",
     "iopub.status.busy": "2022-05-12T18:31:55.531120Z",
     "iopub.status.idle": "2022-05-12T18:31:55.552951Z",
     "shell.execute_reply": "2022-05-12T18:31:55.552037Z",
     "shell.execute_reply.started": "2022-05-12T18:31:55.531365Z"
    }
   },
   "outputs": [],
   "source": [
    "temp2['Num_Of_Years']=temp2['Outlet_Establishment_Year'].apply(numyears)\n",
    "test['Num_Of_Years']=test['Outlet_Establishment_Year'].apply(numyears)"
   ]
  },
  {
   "cell_type": "code",
   "execution_count": 206,
   "metadata": {
    "execution": {
     "iopub.execute_input": "2022-05-12T18:31:55.556314Z",
     "iopub.status.busy": "2022-05-12T18:31:55.555819Z",
     "iopub.status.idle": "2022-05-12T18:31:55.600182Z",
     "shell.execute_reply": "2022-05-12T18:31:55.599061Z",
     "shell.execute_reply.started": "2022-05-12T18:31:55.556271Z"
    }
   },
   "outputs": [],
   "source": [
    "from sklearn.preprocessing import LabelEncoder\n",
    "\n",
    "temp2.apply(LabelEncoder().fit_transform)"
   ]
  },
  {
   "cell_type": "code",
   "execution_count": 207,
   "metadata": {
    "execution": {
     "iopub.execute_input": "2022-05-12T18:31:55.601571Z",
     "iopub.status.busy": "2022-05-12T18:31:55.601357Z",
     "iopub.status.idle": "2022-05-12T18:31:55.609762Z",
     "shell.execute_reply": "2022-05-12T18:31:55.608769Z",
     "shell.execute_reply.started": "2022-05-12T18:31:55.601544Z"
    }
   },
   "outputs": [],
   "source": [
    "temp2['Item_Type']"
   ]
  },
  {
   "cell_type": "code",
   "execution_count": 208,
   "metadata": {
    "execution": {
     "iopub.execute_input": "2022-05-12T18:31:55.612630Z",
     "iopub.status.busy": "2022-05-12T18:31:55.612266Z",
     "iopub.status.idle": "2022-05-12T18:31:55.641192Z",
     "shell.execute_reply": "2022-05-12T18:31:55.640223Z",
     "shell.execute_reply.started": "2022-05-12T18:31:55.612572Z"
    }
   },
   "outputs": [],
   "source": [
    "itemfatcontent=pd.get_dummies(temp2['Item_Fat_Content'])\n",
    "itemtype=pd.get_dummies(temp2['Item_Type'])\n",
    "outletsize=pd.get_dummies(temp2['Outlet_Size'])\n",
    "outletlocationtype=pd.get_dummies(temp2['Outlet_Location_Type'])\n",
    "outputtype=pd.get_dummies(temp2['Outlet_Type'])\n",
    "\n",
    "itemfatcontent_test=pd.get_dummies(test['Item_Fat_Content'])\n",
    "itemtype_test=pd.get_dummies(test['Item_Type'])\n",
    "outletsize_test=pd.get_dummies(test['Outlet_Size'])\n",
    "outletlocationtype_test=pd.get_dummies(test['Outlet_Location_Type'])\n",
    "outputtype_test=pd.get_dummies(test['Outlet_Type'])"
   ]
  },
  {
   "cell_type": "code",
   "execution_count": 214,
   "metadata": {},
   "outputs": [],
   "source": [
    "training=temp2\n",
    "training=pd.concat([temp2,itemfatcontent,itemtype,outletsize,outletlocationtype,outputtype], axis=1)\n",
    "training.drop(['Item_Identifier', 'Item_Fat_Content','Item_Type','Outlet_Identifier','Outlet_Establishment_Year','Outlet_Size',\n",
    "            'Outlet_Location_Type', 'Outlet_Type'], axis=1, inplace=True)\n",
    "testing=test\n",
    "testing=pd.concat([test,itemfatcontent_test,itemtype_test,outletsize_test,outletlocationtype_test,outputtype_test], axis=1)\n",
    "testing.drop(['Item_Identifier', 'Item_Fat_Content','Item_Type','Outlet_Identifier','Outlet_Establishment_Year','Outlet_Size',\n",
    "            'Outlet_Location_Type', 'Outlet_Type'], axis=1, inplace=True)"
   ]
  },
  {
   "cell_type": "code",
   "execution_count": 215,
   "metadata": {
    "execution": {
     "iopub.execute_input": "2022-05-12T18:32:53.126422Z",
     "iopub.status.busy": "2022-05-12T18:32:53.126113Z",
     "iopub.status.idle": "2022-05-12T18:32:53.133874Z",
     "shell.execute_reply": "2022-05-12T18:32:53.132960Z",
     "shell.execute_reply.started": "2022-05-12T18:32:53.126385Z"
    }
   },
   "outputs": [],
   "source": [
    "print(itemtype)"
   ]
  },
  {
   "cell_type": "code",
   "execution_count": 216,
   "metadata": {
    "execution": {
     "iopub.execute_input": "2022-05-12T18:32:55.321968Z",
     "iopub.status.busy": "2022-05-12T18:32:55.321168Z",
     "iopub.status.idle": "2022-05-12T18:32:55.344874Z",
     "shell.execute_reply": "2022-05-12T18:32:55.344004Z",
     "shell.execute_reply.started": "2022-05-12T18:32:55.321927Z"
    }
   },
   "outputs": [],
   "source": [
    "training"
   ]
  },
  {
   "cell_type": "code",
   "execution_count": 217,
   "metadata": {
    "execution": {
     "iopub.execute_input": "2022-05-12T18:32:59.801907Z",
     "iopub.status.busy": "2022-05-12T18:32:59.801568Z",
     "iopub.status.idle": "2022-05-12T18:32:59.810256Z",
     "shell.execute_reply": "2022-05-12T18:32:59.809584Z",
     "shell.execute_reply.started": "2022-05-12T18:32:59.801870Z"
    }
   },
   "outputs": [],
   "source": [
    "ios=training.drop(['Item_Outlet_Sales'], axis=1)\n",
    "iosy=training['Item_Outlet_Sales']\n",
    "training['Item_Outlet_Sales'].dtypes"
   ]
  },
  {
   "cell_type": "code",
   "execution_count": null,
   "metadata": {},
   "outputs": [],
   "source": []
  },
  {
   "cell_type": "code",
   "execution_count": 218,
   "metadata": {
    "execution": {
     "iopub.execute_input": "2022-05-12T18:33:02.822993Z",
     "iopub.status.busy": "2022-05-12T18:33:02.821887Z",
     "iopub.status.idle": "2022-05-12T18:33:02.833606Z",
     "shell.execute_reply": "2022-05-12T18:33:02.832523Z",
     "shell.execute_reply.started": "2022-05-12T18:33:02.822925Z"
    }
   },
   "outputs": [],
   "source": [
    "from sklearn.model_selection import train_test_split\n",
    "# split into train test sets using 67% for train set and 33% for test set\n",
    "x_train, x_test, y_train, y_test = train_test_split(ios, iosy, test_size=0.33)\n",
    "print(x_train.shape, x_test.shape, y_train.shape, y_test.shape)"
   ]
  },
  {
   "cell_type": "code",
   "execution_count": 220,
   "metadata": {
    "execution": {
     "iopub.execute_input": "2022-05-12T18:33:20.161195Z",
     "iopub.status.busy": "2022-05-12T18:33:20.160622Z",
     "iopub.status.idle": "2022-05-12T18:33:20.295022Z",
     "shell.execute_reply": "2022-05-12T18:33:20.293019Z",
     "shell.execute_reply.started": "2022-05-12T18:33:20.161147Z"
    }
   },
   "outputs": [],
   "source": [
    "# LINEAR REGRESSION\n",
    "\n",
    "from sklearn.linear_model import LinearRegression\n",
    "from sklearn.metrics import mean_squared_error\n",
    "from sklearn.metrics import r2_score\n",
    "\n",
    "lr=LinearRegression()\n",
    "lr.fit(x_train,y_train)\n",
    "\n",
    "#prediction of test set result\n",
    "prediction=lr.predict(x_test)\n",
    "print(prediction)\n",
    "\n",
    "# finding the mean squared error, RMSE, and variance\n",
    "mse = mean_squared_error(y_test, prediction)\n",
    "print('Mean Squared Error: ', mse)\n",
    "print('Root Mean Squared Error: ', np.sqrt(mse))\n",
    "print('Variance score: %.2f' % r2_score(y_test, prediction))"
   ]
  },
  {
   "cell_type": "code",
   "execution_count": 221,
   "metadata": {
    "execution": {
     "iopub.execute_input": "2022-05-12T18:33:22.705236Z",
     "iopub.status.busy": "2022-05-12T18:33:22.704782Z",
     "iopub.status.idle": "2022-05-12T18:33:22.951551Z",
     "shell.execute_reply": "2022-05-12T18:33:22.950252Z",
     "shell.execute_reply.started": "2022-05-12T18:33:22.705188Z"
    }
   },
   "outputs": [],
   "source": [
    "plt.scatter(y_test, prediction)"
   ]
  },
  {
   "cell_type": "code",
   "execution_count": 222,
   "metadata": {
    "execution": {
     "iopub.execute_input": "2022-05-12T18:34:23.453673Z",
     "iopub.status.busy": "2022-05-12T18:34:23.453318Z",
     "iopub.status.idle": "2022-05-12T18:34:24.319604Z",
     "shell.execute_reply": "2022-05-12T18:34:24.318748Z",
     "shell.execute_reply.started": "2022-05-12T18:34:23.453621Z"
    }
   },
   "outputs": [],
   "source": [
    "#XGBOOST REGRESSOR\n",
    "from sklearn.ensemble import GradientBoostingRegressor\n",
    "\n",
    "xr=GradientBoostingRegressor()\n",
    "xr.fit(x_train,y_train)\n",
    "\n",
    "#prediction on test result set\n",
    "prediction=xr.predict(x_test)\n",
    "print(prediction)\n",
    "\n",
    "# Calculating the mean squared error and root mean squared error\n",
    "print(\"Mean Squared Error: \", ((y_test - prediction)**2).sum()/len(y_test))\n",
    "print(\"Root Mean Squared Error: \", np.sqrt(((y_test - prediction)**2).sum()/len(y_test)))\n",
    "print('Variance score: %.2f' % r2_score(y_test, prediction))"
   ]
  },
  {
   "cell_type": "code",
   "execution_count": 223,
   "metadata": {
    "execution": {
     "iopub.execute_input": "2022-05-12T18:34:26.528474Z",
     "iopub.status.busy": "2022-05-12T18:34:26.527278Z",
     "iopub.status.idle": "2022-05-12T18:34:26.789382Z",
     "shell.execute_reply": "2022-05-12T18:34:26.788203Z",
     "shell.execute_reply.started": "2022-05-12T18:34:26.528423Z"
    }
   },
   "outputs": [],
   "source": [
    "plt.scatter(y_test, prediction)"
   ]
  }
 ],
 "metadata": {
  "kernelspec": {
   "display_name": "Python 3 (ipykernel)",
   "language": "python",
   "name": "python3"
  },
  "language_info": {
   "codemirror_mode": {
    "name": "ipython",
    "version": 3
   },
   "file_extension": ".py",
   "mimetype": "text/x-python",
   "name": "python",
   "nbconvert_exporter": "python",
   "pygments_lexer": "ipython3",
   "version": "3.9.7"
  }
 },
 "nbformat": 4,
 "nbformat_minor": 4
}
